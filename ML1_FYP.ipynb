{
  "nbformat": 4,
  "nbformat_minor": 0,
  "metadata": {
    "colab": {
      "name": "ML1-FYP.ipynb",
      "provenance": [],
      "collapsed_sections": [],
      "authorship_tag": "ABX9TyN/WRq3qZSRiQ+ELh26quyW",
      "include_colab_link": true
    },
    "kernelspec": {
      "name": "python3",
      "display_name": "Python 3"
    },
    "language_info": {
      "name": "python"
    }
  },
  "cells": [
    {
      "cell_type": "markdown",
      "metadata": {
        "id": "view-in-github",
        "colab_type": "text"
      },
      "source": [
        "<a href=\"https://colab.research.google.com/github/jackie-hayek/FYP-ML/blob/main/ML1_FYP.ipynb\" target=\"_parent\"><img src=\"https://colab.research.google.com/assets/colab-badge.svg\" alt=\"Open In Colab\"/></a>"
      ]
    },
    {
      "cell_type": "code",
      "metadata": {
        "id": "PsKAWq1_FTqm"
      },
      "source": [
        "def timer():\n",
        "  bool trigger = 0;\n",
        "  if(time == specified time):\n",
        "    trigger = 1\n",
        "  return"
      ],
      "execution_count": null,
      "outputs": []
    },
    {
      "cell_type": "code",
      "metadata": {
        "id": "UOR2Z8D0Fl_9"
      },
      "source": [
        "import numpy as np\n",
        "import pandas as pd\n",
        "import matplotlib.pyplot as plt\n",
        "import seaborn as sns\n",
        "from sklearn.linear_model import LinearRegression\n",
        "from sklearn.model_selection import train_test_split"
      ],
      "execution_count": null,
      "outputs": []
    },
    {
      "cell_type": "code",
      "metadata": {
        "colab": {
          "base_uri": "https://localhost:8080/"
        },
        "id": "1zG073FEFqvC",
        "outputId": "fceacaf6-e13a-442d-9a83-34df0659c333"
      },
      "source": [
        "df = pd.read_csv ('/content/data2.csv', index_col= False)\n",
        "print(df)\n",
        "\n",
        "df.isnull().sum()"
      ],
      "execution_count": null,
      "outputs": [
        {
          "output_type": "stream",
          "name": "stdout",
          "text": [
            "    Time  Fill rate in %        Clock\n",
            "0      0               0   7:00:00 AM\n",
            "1      3               3  10:00:00 AM\n",
            "2      6               5   1:00:00 PM\n",
            "3      9               6   4:00:00 PM\n",
            "4     12               6   7:00:00 PM\n",
            "5     15               7  10:00:00 PM\n",
            "6     18               7   1:00:00 AM\n",
            "7     21               7   4:00:00 AM\n",
            "8     24               8   7:00:00 AM\n",
            "9     27              10  10:00:00 AM\n",
            "10    30              12   1:00:00 PM\n",
            "11    33              13   4:00:00 PM\n",
            "12    36              15   7:00:00 PM\n",
            "13    39              16  10:00:00 PM\n",
            "14    42              15   1:00:00 AM\n",
            "15    45              15   4:00:00 AM\n",
            "16    48              16   7:00:00 AM\n",
            "17    51              20  10:00:00 AM\n",
            "18    54              22   1:00:00 PM\n",
            "19    57              30   4:00:00 PM\n",
            "20    60              31   7:00:00 PM\n",
            "21    63              31  10:00:00 PM\n",
            "22    66              31   1:00:00 AM\n",
            "23    69              31   4:00:00 AM\n",
            "24    72              32   7:00:00 AM\n",
            "25    75              33  10:00:00 AM\n",
            "26    78              34   1:00:00 PM\n",
            "27    81              34   4:00:00 PM\n",
            "28    84              34   7:00:00 PM\n",
            "29    87              34  10:00:00 PM\n",
            "30    90              34   1:00:00 AM\n",
            "31    93              34   4:00:00 AM\n",
            "32    96              36   7:00:00 AM\n",
            "33    99              38  10:00:00 AM\n",
            "34   112              42   1:00:00 PM\n",
            "35   115              45   4:00:00 PM\n",
            "36   118              47   7:00:00 PM\n"
          ]
        },
        {
          "output_type": "execute_result",
          "data": {
            "text/plain": [
              "Time              0\n",
              "Fill rate in %    0\n",
              "Clock             0\n",
              "dtype: int64"
            ]
          },
          "metadata": {},
          "execution_count": 31
        }
      ]
    },
    {
      "cell_type": "code",
      "metadata": {
        "colab": {
          "base_uri": "https://localhost:8080/"
        },
        "id": "Y6ZdBjyxPkIE",
        "outputId": "ddbaddf9-a3b4-45a2-8d7d-d8f20b5f8efe"
      },
      "source": [
        "df_reg = df.copy(deep=True)\n",
        "df1 = df_reg.drop('Clock', axis=1)\n",
        "print(df1)\n",
        "\n",
        "\n",
        "X = np.array(df1['Time']).reshape(-1,1)\n",
        "y = np.array(df1['Fill rate in %']).reshape(-1,1)"
      ],
      "execution_count": null,
      "outputs": [
        {
          "output_type": "stream",
          "name": "stdout",
          "text": [
            "    Time  Fill rate in %\n",
            "0      0               0\n",
            "1      3               3\n",
            "2      6               5\n",
            "3      9               6\n",
            "4     12               6\n",
            "5     15               7\n",
            "6     18               7\n",
            "7     21               7\n",
            "8     24               8\n",
            "9     27              10\n",
            "10    30              12\n",
            "11    33              13\n",
            "12    36              15\n",
            "13    39              16\n",
            "14    42              15\n",
            "15    45              15\n",
            "16    48              16\n",
            "17    51              20\n",
            "18    54              22\n",
            "19    57              30\n",
            "20    60              31\n",
            "21    63              31\n",
            "22    66              31\n",
            "23    69              31\n",
            "24    72              32\n",
            "25    75              33\n",
            "26    78              34\n",
            "27    81              34\n",
            "28    84              34\n",
            "29    87              34\n",
            "30    90              34\n",
            "31    93              34\n",
            "32    96              36\n",
            "33    99              38\n",
            "34   112              42\n",
            "35   115              45\n",
            "36   118              47\n"
          ]
        }
      ]
    },
    {
      "cell_type": "markdown",
      "metadata": {
        "id": "RMmQvgxdSBXb"
      },
      "source": [
        "Plotting the values\n"
      ]
    },
    {
      "cell_type": "code",
      "metadata": {
        "colab": {
          "base_uri": "https://localhost:8080/",
          "height": 282
        },
        "id": "wSK-uM_JSAqG",
        "outputId": "46d96317-2017-442e-d909-60a54262a6d2"
      },
      "source": [
        "plt.scatter(df1['Time'], df1['Fill rate in %'], color = 'blue')\n",
        "\n",
        "plt.xlabel('Time')\n",
        "plt.ylabel('Fill rate in %')\n",
        "\n",
        "plt.plot(X_test, y_pred, color = 'green')\n",
        "plt.show()\n"
      ],
      "execution_count": null,
      "outputs": [
        {
          "output_type": "display_data",
          "data": {
            "image/png": "[encoded data removed]",
            "text/plain": [
              "<Figure size 432x288 with 1 Axes>"
            ]
          },
          "metadata": {
            "needs_background": "light"
          }
        }
      ]
    },
    {
      "cell_type": "code",
      "metadata": {
        "colab": {
          "base_uri": "https://localhost:8080/"
        },
        "id": "NwYDsXzDFwcj",
        "outputId": "30c815c2-62ad-4275-ea72-bc02d6b679ab"
      },
      "source": [
        "X_train, X_test, y_train, y_test = train_test_split(X, y, random_state = 42, test_size = 0.25)\n",
        "\n",
        "lr = LinearRegression()\n",
        "lr.fit(X_train,y_train)\n",
        "\n",
        "y_pred = lr.predict(X_test)\n",
        "\n",
        "print(\"R^2 Accuracy: \", lr.score(X_test, y_test))\n"
      ],
      "execution_count": null,
      "outputs": [
        {
          "output_type": "stream",
          "name": "stdout",
          "text": [
            "R^2 Accuracy:  0.9731118171407958\n"
          ]
        }
      ]
    },
    {
      "cell_type": "code",
      "metadata": {
        "id": "Yogcm6TW4lXy"
      },
      "source": [
        "import pickle"
      ],
      "execution_count": null,
      "outputs": []
    },
    {
      "cell_type": "code",
      "metadata": {
        "id": "VrGVrHwitMyi"
      },
      "source": [
        "# Save the Model to file in the current working directory\n",
        "Pkl_Filename = \"Pickle_RL_Model.pkl\"  \n",
        "\n",
        "with open(Pkl_Filename, 'wb') as file:  \n",
        "    pickle.dump(lr, file)"
      ],
      "execution_count": null,
      "outputs": []
    },
    {
      "cell_type": "code",
      "metadata": {
        "colab": {
          "base_uri": "https://localhost:8080/"
        },
        "id": "Xvl3DBN0uwKa",
        "outputId": "e9a82dd7-77de-4998-a08f-ff421fa80540"
      },
      "source": [
        "# Load the Model back from file\n",
        "with open(Pkl_Filename, 'rb') as file:  \n",
        "    Pickled_LR_Model = pickle.load(file)\n",
        "\n",
        "Pickled_LR_Model"
      ],
      "execution_count": null,
      "outputs": [
        {
          "output_type": "execute_result",
          "data": {
            "text/plain": [
              "LinearRegression()"
            ]
          },
          "metadata": {},
          "execution_count": 37
        }
      ]
    },
    {
      "cell_type": "code",
      "metadata": {
        "colab": {
          "base_uri": "https://localhost:8080/"
        },
        "id": "wtlXOUIRvnzD",
        "outputId": "c71c873a-4033-4698-8a9a-d3a402fe89db"
      },
      "source": [
        "# Calculate the Score \n",
        "score = Pickled_LR_Model.score(X_test, y_test)  \n",
        "# Print the Score\n",
        "print(\"Test score: {0:.2f} %\".format(100 * score))  \n",
        "\n",
        "# Predict the Labels using the reloaded Model\n",
        "y_pred = Pickled_LR_Model.predict(X_test)  \n",
        "\n",
        "y_pred"
      ],
      "execution_count": null,
      "outputs": [
        {
          "output_type": "stream",
          "name": "stdout",
          "text": [
            "Test score: 97.31 %\n"
          ]
        },
        {
          "output_type": "execute_result",
          "data": {
            "text/plain": [
              "array([[21.08904389],\n",
              "       [16.46136923],\n",
              "       [ 6.04910125],\n",
              "       [34.97206786],\n",
              "       [45.76997539],\n",
              "       [30.3443932 ],\n",
              "       [ 8.36293858],\n",
              "       [31.50131187],\n",
              "       [29.18747454],\n",
              "       [19.93212522]])"
            ]
          },
          "metadata": {},
          "execution_count": 38
        }
      ]
    }
  ]
}